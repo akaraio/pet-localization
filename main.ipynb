{
 "cells": [
  {
   "cell_type": "code",
   "execution_count": null,
   "metadata": {
    "executionInfo": {
     "elapsed": 255,
     "status": "ok",
     "timestamp": 1733610465245,
     "user": {
      "displayName": "akara",
      "userId": "03294495074658875410"
     },
     "user_tz": -120
    },
    "id": "wpDnhUO1K7fq"
   },
   "outputs": [],
   "source": [
    "import tensorflow as tf\n",
    "import tensorflow as tf\n",
    "from tensorflow.keras.layers import Flatten, Dense, Concatenate\n",
    "from tensorflow.keras.models import Model\n",
    "from tensorflow.keras.optimizers import Adam, SGD\n",
    "from tensorflow.keras.preprocessing import image\n",
    "from tensorflow.keras.applications.vgg16 import preprocess_input, VGG16\n",
    "from tensorflow.keras.losses import binary_crossentropy, categorical_crossentropy\n",
    "\n",
    "import numpy as np\n",
    "import matplotlib.pyplot as plt\n",
    "from matplotlib.patches import Rectangle\n",
    "from PIL import Image"
   ]
  },
  {
   "cell_type": "code",
   "execution_count": 34,
   "metadata": {
    "executionInfo": {
     "elapsed": 1157,
     "status": "ok",
     "timestamp": 1733610466672,
     "user": {
      "displayName": "akara",
      "userId": "03294495074658875410"
     },
     "user_tz": -120
    },
    "id": "VfZbi5k_Ltc5"
   },
   "outputs": [],
   "source": [
    "dog = plt.imread('data')\n",
    "cat = plt.imread('data')"
   ]
  },
  {
   "cell_type": "code",
   "execution_count": null,
   "metadata": {
    "colab": {
     "base_uri": "https://localhost:8080/"
    },
    "executionInfo": {
     "elapsed": 6,
     "status": "ok",
     "timestamp": 1733610466673,
     "user": {
      "displayName": "akara",
      "userId": "03294495074658875410"
     },
     "user_tz": -120
    },
    "id": "jP9M4_J5NfLx",
    "outputId": "c71e9aac-6215-4b6e-daf7-c0b57b978220"
   },
   "outputs": [],
   "source": [
    "dog.shape, cat.shape"
   ]
  },
  {
   "cell_type": "code",
   "execution_count": 36,
   "metadata": {
    "executionInfo": {
     "elapsed": 1192,
     "status": "ok",
     "timestamp": 1733610467861,
     "user": {
      "displayName": "akara",
      "userId": "03294495074658875410"
     },
     "user_tz": -120
    },
    "id": "0OmnUjelLzDs"
   },
   "outputs": [],
   "source": [
    "dog = Image.open('data').resize((40, 40))\n",
    "cat = Image.open('data').resize((21, 40))\n",
    "\n",
    "DOG_H, DOG_W, DOG_C = np.array(dog).shape\n",
    "CAT_H, CAT_W, CAT_C = np.array(cat).shape\n",
    "AN_DIM = 200"
   ]
  },
  {
   "cell_type": "code",
   "execution_count": 37,
   "metadata": {
    "executionInfo": {
     "elapsed": 4,
     "status": "ok",
     "timestamp": 1733610467861,
     "user": {
      "displayName": "akara",
      "userId": "03294495074658875410"
     },
     "user_tz": -120
    },
    "id": "jbDv-cJrMCHc"
   },
   "outputs": [],
   "source": [
    "pet_data = [[dog, DOG_H, DOG_W, DOG_C], [cat, CAT_H, CAT_W, CAT_C]]\n",
    "classnames = ['dog', 'cat']"
   ]
  },
  {
   "cell_type": "code",
   "execution_count": 38,
   "metadata": {
    "executionInfo": {
     "elapsed": 3,
     "status": "ok",
     "timestamp": 1733610467861,
     "user": {
      "displayName": "akara",
      "userId": "03294495074658875410"
     },
     "user_tz": -120
    },
    "id": "P_L38xOCNDr1"
   },
   "outputs": [],
   "source": [
    "def custom_loss(y_true, y_pred):\n",
    "    bce = binary_crossentropy(y_true[:, :4], y_pred[:, :4]) # Location\n",
    "    cce = categorical_crossentropy(y_true[:, 4:7], y_pred[:, 4:7]) # Class\n",
    "    bce2 = binary_crossentropy(y_true[:, -1], y_pred[:, -1]) # Appear\n",
    "    return bce * y_true[:, -1] + cce * y_true[:, -1] + 0.5 * bce2"
   ]
  },
  {
   "cell_type": "code",
   "execution_count": 39,
   "metadata": {
    "executionInfo": {
     "elapsed": 2,
     "status": "ok",
     "timestamp": 1733610468675,
     "user": {
      "displayName": "akara",
      "userId": "03294495074658875410"
     },
     "user_tz": -120
    },
    "id": "VNjMYcVkNEoO"
   },
   "outputs": [],
   "source": [
    "def make_model():\n",
    "    vgg = VGG16(input_shape=[AN_DIM, AN_DIM, 3], weights='imagenet', include_top=False)\n",
    "    x = Flatten()(vgg.output)\n",
    "    x1 = Dense(4, activation='sigmoid')(x) # Location\n",
    "    x2 = Dense(3, activation='softmax')(x) # Class\n",
    "    x3 = Dense(1, activation='sigmoid')(x) # Appear\n",
    "    x = Concatenate()([x1, x2, x3])\n",
    "\n",
    "    model = Model(vgg.input, x)\n",
    "    model.compile(loss=custom_loss, optimizer=Adam(learning_rate=0.0001))\n",
    "    return model"
   ]
  },
  {
   "cell_type": "code",
   "execution_count": 40,
   "metadata": {
    "executionInfo": {
     "elapsed": 346,
     "status": "ok",
     "timestamp": 1733610469267,
     "user": {
      "displayName": "akara",
      "userId": "03294495074658875410"
     },
     "user_tz": -120
    },
    "id": "jcHPhcyWNFrc"
   },
   "outputs": [],
   "source": [
    "from glob import glob\n",
    "\n",
    "backgrounds = []\n",
    "\n",
    "for f in glob('data'):\n",
    "    bg = np.array(image.load_img(f))\n",
    "    backgrounds.append(bg)"
   ]
  },
  {
   "cell_type": "code",
   "execution_count": 41,
   "metadata": {
    "executionInfo": {
     "elapsed": 1,
     "status": "ok",
     "timestamp": 1733610469515,
     "user": {
      "displayName": "akara",
      "userId": "03294495074658875410"
     },
     "user_tz": -120
    },
    "id": "7hj-CJjjNGsl"
   },
   "outputs": [],
   "source": [
    "def pet_generator(batch_size=64):\n",
    "   while True:\n",
    "        for _ in range(50):\n",
    "            X = np.zeros((batch_size, AN_DIM, AN_DIM, 3))\n",
    "            Y = np.zeros((batch_size, 8))\n",
    "\n",
    "            for i in range(batch_size):\n",
    "                bg_idx = np.random.choice(len(backgrounds))\n",
    "                bg = backgrounds[bg_idx]\n",
    "                bg_h, bg_w, _ = bg.shape\n",
    "                rnd_h = np.random.randint(bg_h - AN_DIM)\n",
    "                rnd_w = np.random.randint(bg_w - AN_DIM)\n",
    "                X[i] = bg[rnd_h:rnd_h+AN_DIM, rnd_w:rnd_w+AN_DIM].copy()\n",
    "\n",
    "                appear = (np.random.random() < 0.75)\n",
    "                if appear:\n",
    "\n",
    "                    pk_idx = np.random.randint(2)\n",
    "                    pk, h, w, _ = pet_data[pk_idx]\n",
    "\n",
    "                    scale = 0.5 + np.random.random()\n",
    "                    new_height = int(h * scale)\n",
    "                    new_width = int(w * scale)\n",
    "                    obj = np.array(pk.resize((new_width, new_height)))\n",
    "\n",
    "                    if np.random.random() < 0.5:\n",
    "                        obj = np.fliplr(obj)\n",
    "\n",
    "                    row0 = np.random.randint(AN_DIM - new_height)\n",
    "                    col0 = np.random.randint(AN_DIM - new_width)\n",
    "                    row1 = row0 + new_height\n",
    "                    col1 = col0 + new_width\n",
    "\n",
    "                    mask = (obj[:, :, 3] == 0)\n",
    "                    bg_slice = X[i, row0:row1, col0:col1, :]\n",
    "                    bg_slice = np.expand_dims(mask, -1) * bg_slice\n",
    "                    bg_slice += obj[:,:,:3]\n",
    "                    X[i, row0:row1, col0:col1, :] = bg_slice\n",
    "\n",
    "                    # Location\n",
    "                    Y[i,0] = row0/AN_DIM\n",
    "                    Y[i,1] = col0/AN_DIM\n",
    "                    Y[i,2] = (row1-row0)/AN_DIM\n",
    "                    Y[i,3] = (col1-col0)/AN_DIM\n",
    "\n",
    "                    # Class\n",
    "                    Y[i,4 + pk_idx] = 1\n",
    "\n",
    "                # Appear\n",
    "                Y[i,7] = appear\n",
    "\n",
    "            yield X / 255., Y"
   ]
  },
  {
   "cell_type": "code",
   "execution_count": null,
   "metadata": {
    "colab": {
     "base_uri": "https://localhost:8080/",
     "height": 451
    },
    "executionInfo": {
     "elapsed": 2933,
     "status": "ok",
     "timestamp": 1733610472765,
     "user": {
      "displayName": "akara",
      "userId": "03294495074658875410"
     },
     "user_tz": -120
    },
    "id": "bijkJFA_NIRM",
    "outputId": "bef09b03-b499-474c-fee3-0e91893c30fc"
   },
   "outputs": [],
   "source": [
    "xx = None\n",
    "yy = None\n",
    "\n",
    "for x, y in pet_generator():\n",
    "    xx, yy = x, y\n",
    "    break\n",
    "\n",
    "plt.imshow(xx[1])"
   ]
  },
  {
   "cell_type": "code",
   "execution_count": null,
   "metadata": {
    "colab": {
     "base_uri": "https://localhost:8080/"
    },
    "executionInfo": {
     "elapsed": 2527577,
     "status": "ok",
     "timestamp": 1733613003350,
     "user": {
      "displayName": "akara",
      "userId": "03294495074658875410"
     },
     "user_tz": -120
    },
    "id": "05UoFXaENKJj",
    "outputId": "62c97090-22bc-4f62-f40f-6793ddd0914c"
   },
   "outputs": [],
   "source": [
    "model = make_model()\n",
    "model.fit(pet_generator(), steps_per_epoch=5, epochs=5)"
   ]
  },
  {
   "cell_type": "code",
   "execution_count": 45,
   "metadata": {
    "executionInfo": {
     "elapsed": 221,
     "status": "ok",
     "timestamp": 1733613124293,
     "user": {
      "displayName": "akara",
      "userId": "03294495074658875410"
     },
     "user_tz": -120
    },
    "id": "VcTzhuwhNKc1"
   },
   "outputs": [],
   "source": [
    "def pet_prediction():\n",
    "    bg_idx = np.random.choice(len(backgrounds))\n",
    "    bg = backgrounds[bg_idx]\n",
    "    bg_h, bg_w, _ = bg.shape\n",
    "    rnd_h = np.random.randint(bg_h - AN_DIM)\n",
    "    rnd_w = np.random.randint(bg_w - AN_DIM)\n",
    "    x = bg[rnd_h:rnd_h+AN_DIM, rnd_w:rnd_w+AN_DIM].copy()\n",
    "\n",
    "    appear = (np.random.random() < 0.75)\n",
    "    if appear:\n",
    "\n",
    "        pk_idx = np.random.randint(2)\n",
    "        pk, h, w, _ = pet_data[pk_idx]\n",
    "\n",
    "        scale = 0.5 + np.random.random()\n",
    "        new_height = int(h * scale)\n",
    "        new_width = int(w * scale)\n",
    "        obj = np.array(pk.resize((new_width, new_height)))\n",
    "\n",
    "        if np.random.random() < 0.5:\n",
    "            obj = np.fliplr(obj)\n",
    "\n",
    "        row0 = np.random.randint(AN_DIM - new_height)\n",
    "        col0 = np.random.randint(AN_DIM - new_width)\n",
    "        row1 = row0 + new_height\n",
    "        col1 = col0 + new_width\n",
    "\n",
    "        mask = (obj[:, :, 3] == 0)\n",
    "        bg_slice = x[row0:row1, col0:col1, :]\n",
    "        bg_slice = np.expand_dims(mask, -1) * bg_slice\n",
    "        bg_slice += obj[:,:,:3]\n",
    "        x[row0:row1, col0:col1, :] = bg_slice\n",
    "        actual_class = classnames[pk_idx]\n",
    "        print(actual_class)\n",
    "\n",
    "    X = np.expand_dims(x, 0) / 255.\n",
    "    p = model.predict(X)[0]\n",
    "\n",
    "    fig, ax = plt.subplots(1)\n",
    "    ax.imshow(x)\n",
    "\n",
    "    if p[-1] > 0.5:\n",
    "        row0 = int(p[0]*AN_DIM)\n",
    "        col0 = int(p[1]*AN_DIM)\n",
    "        row1 = int(row0 + p[2]*AN_DIM)\n",
    "        col1 = int(col0 + p[3]*AN_DIM)\n",
    "        class_pred_idx = np.argmax(p[4:7])\n",
    "        class_pred = classnames[class_pred_idx]\n",
    "        rect = Rectangle((p[1]*AN_DIM, p[0]*AN_DIM), p[3]*AN_DIM, p[2]*AN_DIM,\n",
    "                     linewidth=1, edgecolor='r', facecolor='none')\n",
    "        ax.add_patch(rect)\n",
    "    else:\n",
    "        print('No object detected')\n",
    "    plt.show()"
   ]
  },
  {
   "cell_type": "code",
   "execution_count": null,
   "metadata": {
    "colab": {
     "base_uri": "https://localhost:8080/",
     "height": 469
    },
    "executionInfo": {
     "elapsed": 1566,
     "status": "ok",
     "timestamp": 1733613198846,
     "user": {
      "displayName": "akara",
      "userId": "03294495074658875410"
     },
     "user_tz": -120
    },
    "id": "FlzV5IxANMqm",
    "outputId": "381824f2-d893-4d78-f006-9e1e48b646c3"
   },
   "outputs": [],
   "source": [
    "pet_prediction()"
   ]
  },
  {
   "cell_type": "code",
   "execution_count": 44,
   "metadata": {
    "executionInfo": {
     "elapsed": 1170,
     "status": "ok",
     "timestamp": 1733613004513,
     "user": {
      "displayName": "akara",
      "userId": "03294495074658875410"
     },
     "user_tz": -120
    },
    "id": "m0AIqQMmPzER"
   },
   "outputs": [],
   "source": [
    "model.save('data')"
   ]
  }
 ],
 "metadata": {
  "colab": {
   "authorship_tag": "ABX9TyOf4XUI+iJOVwPKBMFCfdz/",
   "mount_file_id": "1Q0jwI7CKwTzUp-SDLl42E_YLPLrEVnyM",
   "provenance": []
  },
  "kernelspec": {
   "display_name": "Python 3",
   "name": "python3"
  },
  "language_info": {
   "name": "python",
   "version": "3.12.8"
  }
 },
 "nbformat": 4,
 "nbformat_minor": 0
}
